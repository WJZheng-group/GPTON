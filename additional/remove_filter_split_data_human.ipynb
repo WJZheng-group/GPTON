{
 "cells": [
  {
   "cell_type": "code",
   "execution_count": 1,
   "metadata": {},
   "outputs": [],
   "source": [
    "import pandas as pd\n",
    "from utils.prompt_factory import make_train_prompt_gene\n",
    "from tqdm import tqdm\n",
    "import re\n",
    "import ast\n",
    "\n"
   ]
  },
  {
   "cell_type": "code",
   "execution_count": 2,
   "metadata": {},
   "outputs": [],
   "source": [
    "src_file = './old_data/human_gene_set_bp.csv'\n",
    "test_file = '/data1/jli49/GEN_RESP/data/updated_filtered_1000_selected_go_terms.csv'\n",
    "target_file = './data/go_terms_bp.csv'\n",
    "\n",
    "src_df = pd.read_csv(src_file)\n",
    "test_df = pd.read_csv(test_file)\n",
    "target_df = pd.read_csv(target_file)"
   ]
  },
  {
   "cell_type": "markdown",
   "metadata": {},
   "source": [
    "remove obsolete rows from the src file"
   ]
  },
  {
   "cell_type": "code",
   "execution_count": 3,
   "metadata": {},
   "outputs": [
    {
     "data": {
      "text/plain": [
       "(7292, 12)"
      ]
     },
     "execution_count": 3,
     "metadata": {},
     "output_type": "execute_result"
    }
   ],
   "source": [
    "src_df = src_df[src_df[\"exact_source\"].isin(target_df[\"GO\"])]\n",
    "src_df.shape\n"
   ]
  },
  {
   "cell_type": "markdown",
   "metadata": {},
   "source": [
    "substitute the rephrase from old prompt to new prompt generated"
   ]
  },
  {
   "cell_type": "code",
   "execution_count": 4,
   "metadata": {},
   "outputs": [
    {
     "data": {
      "text/plain": [
       "<bound method NDFrame.head of       Unnamed: 0  gene_set_id  \\\n",
       "0          12832        12989   \n",
       "1          12834        12991   \n",
       "2          12835        12992   \n",
       "3          12836        12993   \n",
       "4          12837        12994   \n",
       "...          ...          ...   \n",
       "7369       20474        20632   \n",
       "7370       20475        20633   \n",
       "7371       20476        20634   \n",
       "7372       20477        20635   \n",
       "7373       20478        20636   \n",
       "\n",
       "                                      description_brief  description_full  \\\n",
       "0     The maintenance of the structure and integrity...               NaN   \n",
       "1     The repair of single strand breaks in DNA. Rep...               NaN   \n",
       "2     Any process that modulates the frequency, rate...               NaN   \n",
       "3     Any process that modulates the frequency, rate...               NaN   \n",
       "4     The cell cycle process in which the distance i...               NaN   \n",
       "...                                                 ...               ...   \n",
       "7369  Any process that modulates the frequency, rate...               NaN   \n",
       "7370  Any process that activates or increases the fr...               NaN   \n",
       "7371  Any process that modulates the frequency, rate...               NaN   \n",
       "7372  The chemical reactions and pathways involving ...               NaN   \n",
       "7373  The chemical reactions and pathways involving ...               NaN   \n",
       "\n",
       "     source_species_code exact_source     id  \\\n",
       "0                     HS   GO:0000002  12989   \n",
       "1                     HS   GO:0000012  12991   \n",
       "2                     HS   GO:0000018  12992   \n",
       "3                     HS   GO:0000019  12993   \n",
       "4                     HS   GO:0000022  12994   \n",
       "...                  ...          ...    ...   \n",
       "7369                  HS   GO:2001279  20632   \n",
       "7370                  HS   GO:2001280  20633   \n",
       "7371                  HS   GO:2001286  20634   \n",
       "7372                  HS   GO:2001293  20635   \n",
       "7373                  HS   GO:2001300  20636   \n",
       "\n",
       "                                          standard_name collection_name  \\\n",
       "0                 GOBP_MITOCHONDRIAL_GENOME_MAINTENANCE        C5:GO:BP   \n",
       "1                       GOBP_SINGLE_STRAND_BREAK_REPAIR        C5:GO:BP   \n",
       "2                  GOBP_REGULATION_OF_DNA_RECOMBINATION        C5:GO:BP   \n",
       "3              GOBP_REGULATION_OF_MITOTIC_RECOMBINATION        C5:GO:BP   \n",
       "4                       GOBP_MITOTIC_SPINDLE_ELONGATION        C5:GO:BP   \n",
       "...                                                 ...             ...   \n",
       "7369  GOBP_REGULATION_OF_UNSATURATED_FATTY_ACID_BIOS...        C5:GO:BP   \n",
       "7370  GOBP_POSITIVE_REGULATION_OF_UNSATURATED_FATTY_...        C5:GO:BP   \n",
       "7371   GOBP_REGULATION_OF_CAVEOLIN_MEDIATED_ENDOCYTOSIS        C5:GO:BP   \n",
       "7372                 GOBP_MALONYL_COA_METABOLIC_PROCESS        C5:GO:BP   \n",
       "7373                     GOBP_LIPOXIN_METABOLIC_PROCESS        C5:GO:BP   \n",
       "\n",
       "                                                GO_term  \\\n",
       "0                      mitochondrial genome maintenance   \n",
       "1                            single strand break repair   \n",
       "2                       regulation of DNA recombination   \n",
       "3                   regulation of mitotic recombination   \n",
       "4                            mitotic spindle elongation   \n",
       "...                                                 ...   \n",
       "7369  regulation of unsaturated fatty acid biosynthe...   \n",
       "7370  positive regulation of unsaturated fatty acid ...   \n",
       "7371        regulation of caveolin-mediated endocytosis   \n",
       "7372                      malonyl-CoA metabolic process   \n",
       "7373                          lipoxin metabolic process   \n",
       "\n",
       "                                               genelist  \\\n",
       "0     ['AKT3', 'PPARGC1A', 'POLG2', 'PARP1', 'DNA2',...   \n",
       "1     ['XNDC1N', 'ERCC8', 'PARP1', 'APLF', 'ERCC6', ...   \n",
       "2     ['PARP3', 'ACTR2', 'RAD50', 'ALYREF', 'MAD2L2'...   \n",
       "3     ['RAD50', 'ANKLE1', 'ZSCAN4', 'ERCC2', 'MLH1',...   \n",
       "4     ['KIF4A', 'KIF4B', 'RACGAP1', 'BIRC5', 'INCENP...   \n",
       "...                                                 ...   \n",
       "7369  ['PIBF1', 'ABCD1', 'FABP5', 'ABCD2', 'SIRT1', ...   \n",
       "7370  ['ABCD1', 'ABCD2', 'ANXA1', 'IL1B', 'PLA2G3', ...   \n",
       "7371  ['CLN3', 'PROM2', 'NEDD4L', 'SRC', 'CAV3', 'UN...   \n",
       "7372  ['MLYCD', 'NUDT8', 'NUDT7', 'ACACA', 'ACACB', ...   \n",
       "7373  ['PTGR1', 'ALOX12', 'ALOX5', 'ALOX15', 'ALOX15B']   \n",
       "\n",
       "                                              rephrased  \n",
       "0     This process involves the preservation and rep...  \n",
       "1     This process involves the repair mechanism tha...  \n",
       "2     This process involves controlling the exchange...  \n",
       "3     This process involves controlling the exchange...  \n",
       "4     This process involves the lengthening of the s...  \n",
       "...                                                 ...  \n",
       "7369  This process involves the control of the chemi...  \n",
       "7370  This process involves the enhancement of the p...  \n",
       "7371  This process involves controlling the intake o...  \n",
       "7372  This process involves the series of chemical r...  \n",
       "7373  This process involves the series of chemical r...  \n",
       "\n",
       "[7292 rows x 12 columns]>"
      ]
     },
     "execution_count": 4,
     "metadata": {},
     "output_type": "execute_result"
    }
   ],
   "source": [
    "src_df[\"rephrased\"] =None\n",
    "pattern1 = re.compile(r\"^This term refers to a .* which involves\")\n",
    "pattern2 = re.compile(r\"^This term refers to a .* which is\")\n",
    "\n",
    "for idx, row in src_df.iterrows():\n",
    "    match = target_df[target_df[\"GO\"] == row[\"exact_source\"]]\n",
    "    \n",
    "    if not match.empty:\n",
    "        description = match[\"gpt_4o_default description\"].values[0]\n",
    "        description = pattern1.sub(\"\", description).strip()\n",
    "        description = pattern2.sub(\"\", description).strip()\n",
    "        description = \"This process involves \" + description\n",
    "        src_df.at[idx, \"rephrased\"] = description\n",
    "    else:\n",
    "        raise ValueError(f\"Match not found for row index {idx}, row: {row.to_dict()}\")\n",
    "\n",
    "\n",
    "src_df.head"
   ]
  },
  {
   "cell_type": "code",
   "execution_count": 5,
   "metadata": {},
   "outputs": [],
   "source": [
    "src_df.to_csv(\"./human_src_data.csv\")"
   ]
  },
  {
   "cell_type": "markdown",
   "metadata": {},
   "source": [
    "check for test gene sets are in the src_df"
   ]
  },
  {
   "cell_type": "code",
   "execution_count": 83,
   "metadata": {},
   "outputs": [
    {
     "name": "stdout",
     "output_type": "stream",
     "text": [
      "0                          {SDC1, WNT10B, MEGF10, SOX15}\n",
      "4      {SULT1C4, CDH3, MFSD12, ACMSD, OPN3, AKR1B10, ...\n",
      "5      {UQCRC2, CYTB, UQCRH, CYCS, UQCRB, UQCRQ, UQCR...\n",
      "6      {ANAPC11, CDC20, NEK6, MAD2L1, DPF2, ZNF207, S...\n",
      "8      {ND1, NDUFB4, ATP5MC1, PPARA, ENO1, SDHC, ND2,...\n",
      "                             ...                        \n",
      "981    {NAA15, MAPT, NAA25, TADA2B, ERCC6, HDAC6, KAT...\n",
      "982    {EFEMP2, NKX2-5, ARID5B, MYL11, ZFPM1, ISL1, T...\n",
      "985         {CDC20, MOS, TTK, ZWINT, CHFR, MAPK15, KNL1}\n",
      "988                        {MDGA1, LRFN3, PCDH8, MAPK14}\n",
      "989    {RD3, IER3, TP53, PID1, SIRT6, NUPR1, PPARA, T...\n",
      "Name: Genes, Length: 614, dtype: object\n"
     ]
    }
   ],
   "source": [
    "test_gene_set = test_df['Genes'].apply(lambda x: set(x.split()))\n",
    "\n",
    "def convert_genes_set(genes_str):\n",
    "    genes_list = ast.literal_eval(genes_str)\n",
    "    return set(genes_list)\n",
    "\n",
    "all_gene_set = src_df['genelist'].apply(convert_genes_set)\n",
    "\n",
    "\n",
    "def is_subset_of_any(gene_set, all_sets):\n",
    "    return any(gene_set == some_set for some_set in all_sets)\n",
    "\n",
    "subset_results = test_gene_set.apply(lambda x: is_subset_of_any(x, all_gene_set))\n",
    "\n",
    "non_subsets = test_gene_set[~subset_results]\n",
    "# gene sets that are not in the source df\n",
    "print(non_subsets)"
   ]
  },
  {
   "cell_type": "markdown",
   "metadata": {},
   "source": [
    "Drop test genes from src_df"
   ]
  },
  {
   "cell_type": "code",
   "execution_count": 84,
   "metadata": {},
   "outputs": [
    {
     "name": "stdout",
     "output_type": "stream",
     "text": [
      "376\n"
     ]
    },
    {
     "data": {
      "text/plain": [
       "(6919, 12)"
      ]
     },
     "execution_count": 84,
     "metadata": {},
     "output_type": "execute_result"
    }
   ],
   "source": [
    "subset_genes = test_gene_set[subset_results]\n",
    "print(len(subset_genes))\n",
    "\n",
    "src_df['genelist_set'] = src_df['genelist'].apply(convert_genes_set)\n",
    "\n",
    "\n",
    "\n",
    "# Filter out rows from src_df where the genelist_set is in the subset_genes\n",
    "src_df = src_df[~src_df['genelist_set'].apply(lambda x: is_subset_of_any(x, subset_genes))]\n",
    "\n",
    "# Drop the temporary column\n",
    "src_df = src_df.drop(columns=['genelist_set'])\n",
    "src_df.shape"
   ]
  },
  {
   "cell_type": "code",
   "execution_count": 85,
   "metadata": {},
   "outputs": [
    {
     "name": "stdout",
     "output_type": "stream",
     "text": [
      "             GO                                              Genes  \\\n",
      "81   GO:0032348                                REST BMP5 BMP2 DKK3   \n",
      "351  GO:0070886  SPPL3 C10orf71 AKAP5 LMCD1 IGF1 AKAP6 CAMTA1 T...   \n",
      "357  GO:0009146                      ADA NUDT16 SAMHD1 ITPA NUDT15   \n",
      "385  GO:2000065                                REST BMP5 BMP2 DKK3   \n",
      "689  GO:1905459  ADCY10 PPARG IGF1 MFN2 E2F3 SOD2 SLC7A5 ATF4 P...   \n",
      "736  GO:1905288  ADCY10 PPARG IGF1 MFN2 E2F3 SOD2 SLC7A5 ATF4 P...   \n",
      "758  GO:0042640                  WNT5A CTNNB1 SPINK5 WNT10B FERMT1   \n",
      "804  GO:0009204                      ADA NUDT16 SAMHD1 ITPA NUDT15   \n",
      "867  GO:0051884                  WNT5A CTNNB1 SPINK5 WNT10B FERMT1   \n",
      "949  GO:0106058  SPPL3 C10orf71 AKAP5 LMCD1 IGF1 AKAP6 CAMTA1 T...   \n",
      "\n",
      "     Gene_Count                                   Term_Description  \n",
      "81            4  negative regulation of aldosterone biosyntheti...  \n",
      "351          21  positive regulation of calcineurin-NFAT signal...  \n",
      "357           5   purine nucleoside triphosphate catabolic process  \n",
      "385           4  negative regulation of cortisol biosynthetic p...  \n",
      "689          11  regulation of vascular associated smooth muscl...  \n",
      "736          11  vascular associated smooth muscle cell apoptot...  \n",
      "758           5                                             anagen  \n",
      "804           5  deoxyribonucleoside triphosphate catabolic pro...  \n",
      "867           5                     regulation of timing of anagen  \n",
      "949          21  positive regulation of calcineurin-mediated si...  \n"
     ]
    }
   ],
   "source": [
    "# The number does not match due to some duplicate gene sets in the test_df where the same gene set could have various corresponding GO terms\n",
    "\n",
    "duplicates = test_df['Genes'].duplicated(keep=False)\n",
    "duplicate_rows = test_df[duplicates]\n",
    "print(duplicate_rows)"
   ]
  },
  {
   "cell_type": "markdown",
   "metadata": {},
   "source": [
    "Furthermore, drop same GO terms from src_df to make the train_df"
   ]
  },
  {
   "cell_type": "code",
   "execution_count": 86,
   "metadata": {},
   "outputs": [
    {
     "data": {
      "text/plain": [
       "(6571, 12)"
      ]
     },
     "execution_count": 86,
     "metadata": {},
     "output_type": "execute_result"
    }
   ],
   "source": [
    "def is_equal_any(GO, all_test_GO):\n",
    "    return any(GO == some_GO for some_GO in all_test_GO)\n",
    "\n",
    "\n",
    "all_test_GO = test_df[\"Term_Description\"].tolist()\n",
    "train_df = src_df[~src_df['GO_term'].apply(lambda x: is_equal_any(x, all_test_GO))]\n",
    "\n",
    "train_df.shape"
   ]
  },
  {
   "cell_type": "markdown",
   "metadata": {},
   "source": [
    "convert gene list to space separated in train_df"
   ]
  },
  {
   "cell_type": "code",
   "execution_count": 87,
   "metadata": {},
   "outputs": [
    {
     "name": "stderr",
     "output_type": "stream",
     "text": [
      "/tmp/ipykernel_4101283/3548120833.py:6: SettingWithCopyWarning: \n",
      "A value is trying to be set on a copy of a slice from a DataFrame.\n",
      "Try using .loc[row_indexer,col_indexer] = value instead\n",
      "\n",
      "See the caveats in the documentation: https://pandas.pydata.org/pandas-docs/stable/user_guide/indexing.html#returning-a-view-versus-a-copy\n",
      "  train_df['genelist'] = train_df['genelist'].apply(convert_genes_string)\n"
     ]
    },
    {
     "data": {
      "text/plain": [
       "<bound method NDFrame.head of 0       AKT3 PPARGC1A POLG2 PARP1 DNA2 TYMP FLCN PRIMP...\n",
       "1       XNDC1N ERCC8 PARP1 APLF ERCC6 SIRT1 LIG4 APTX ...\n",
       "2       PARP3 ACTR2 RAD50 ALYREF MAD2L2 KAT5 RAD51AP1 ...\n",
       "3              RAD50 ANKLE1 ZSCAN4 ERCC2 MLH1 MRE11 TERF2\n",
       "5       RPL10L RPLP0P6 FASTKD2 DHX30 MDN1 RRS1 BOP1 MR...\n",
       "                              ...                        \n",
       "7369    PIBF1 ABCD1 FABP5 ABCD2 SIRT1 ANXA1 IL1B MIR13...\n",
       "7370    ABCD1 ABCD2 ANXA1 IL1B PLA2G3 AVP AVPR1A PTGS2...\n",
       "7371                    CLN3 PROM2 NEDD4L SRC CAV3 UNC119\n",
       "7372                 MLYCD NUDT8 NUDT7 ACACA ACACB NUDT19\n",
       "7373                    PTGR1 ALOX12 ALOX5 ALOX15 ALOX15B\n",
       "Name: genelist, Length: 6571, dtype: object>"
      ]
     },
     "execution_count": 87,
     "metadata": {},
     "output_type": "execute_result"
    }
   ],
   "source": [
    "def convert_genes_string(genes_str):\n",
    "    genes_list = ast.literal_eval(genes_str)\n",
    "    return ' '.join(genes_list)\n",
    "\n",
    "\n",
    "train_df['genelist'] = train_df['genelist'].apply(convert_genes_string)\n",
    "\n",
    "train_df['genelist'].head"
   ]
  },
  {
   "cell_type": "markdown",
   "metadata": {},
   "source": [
    "Formulate test_df"
   ]
  },
  {
   "cell_type": "code",
   "execution_count": 88,
   "metadata": {},
   "outputs": [],
   "source": [
    "for idx, row in target_df.iterrows():\n",
    "    description = row['gpt_4o_default description']\n",
    "    description = pattern1.sub(\"\", description).strip()\n",
    "    description = pattern2.sub(\"\", description).strip()\n",
    "    description = \"This process involves \" + description\n",
    "    target_df.at[idx, \"rephrased\"] = description"
   ]
  },
  {
   "cell_type": "code",
   "execution_count": 89,
   "metadata": {},
   "outputs": [
    {
     "data": {
      "text/plain": [
       "<bound method NDFrame.head of              GO                                           genelist  \\\n",
       "0    GO:0048627                           MEGF10 SDC1 WNT10B SOX15   \n",
       "1    GO:1904888  CPLANE2 NEUROG1 GRHL2 TGFB3 EXT1 TGFBR2 TWIST1...   \n",
       "2    GO:0019585  DCXR UGT1A9 UGT2B7 PRKCE UGT1A7 UGT2A3 SORD UG...   \n",
       "3    GO:1902267                         AZIN1 OAZ2 OAZ1 AZIN2 OAZ3   \n",
       "4    GO:0019748  BDH2 CYP2A7 AKR1C1 ACMSD ATP7A ASIP DDT CYP3A4...   \n",
       "..          ...                                                ...   \n",
       "985  GO:0044785               MOS CDC20 CHFR TTK MAPK15 KNL1 ZWINT   \n",
       "986  GO:0045494  CLN8 ADGRV1 NXNL2 CDH23 MKKS BBS10 TUB LCA5 NX...   \n",
       "987  GO:0031204  HSPA5 SEC61A2 GLP1R SEC63 SEC62 SEC61G SEC61A1...   \n",
       "988  GO:0099179                           MDGA1 LRFN3 MAPK14 PCDH8   \n",
       "989  GO:0045980  PPP2CA CBFA2T3 TP53 SIRT6 TIGAR IER3 PFKFB1 PI...   \n",
       "\n",
       "     Gene_Count                                   Term_Description  \\\n",
       "0             4                               myoblast development   \n",
       "1            72                cranial skeletal system development   \n",
       "2            26                      glucuronate metabolic process   \n",
       "3             5    regulation of polyamine transmembrane transport   \n",
       "4            56                        secondary metabolic process   \n",
       "..          ...                                                ...   \n",
       "985           7  metaphase/anaphase transition of meiotic cell ...   \n",
       "986          43                     photoreceptor cell maintenance   \n",
       "987           8  post-translational protein targeting to membra...   \n",
       "988           4           regulation of synaptic membrane adhesion   \n",
       "989          26  negative regulation of nucleotide metabolic pr...   \n",
       "\n",
       "                                             rephrased  \n",
       "0    This process involves the formation and matura...  \n",
       "1    This process involves the series of events inv...  \n",
       "2    This process involves the chemical reactions a...  \n",
       "3    This process involves controlling the movement...  \n",
       "4    This process involves the production of comple...  \n",
       "..                                                 ...  \n",
       "985  This process involves the critical phase in me...  \n",
       "986  This process involves the ongoing upkeep and r...  \n",
       "987  This process involves the movement and inserti...  \n",
       "988  This process involves controlling the attachme...  \n",
       "989  This process involves the mechanisms that decr...  \n",
       "\n",
       "[990 rows x 5 columns]>"
      ]
     },
     "execution_count": 89,
     "metadata": {},
     "output_type": "execute_result"
    }
   ],
   "source": [
    "# 1. change column name\n",
    "test_df.rename(columns={'Genes': 'genelist'}, inplace=True)\n",
    "\n",
    "# 2. add matching rephrase\n",
    "test_df[\"rephrased\"] =None\n",
    "for i, row in test_df.iterrows():\n",
    "    test_df.at[i, \"rephrased\"] = target_df[target_df['Term_Description'] == row['Term_Description']]['rephrased'].iloc[0]\n",
    "test_df.head"
   ]
  },
  {
   "cell_type": "markdown",
   "metadata": {},
   "source": [
    "Save train/test DF (optional)"
   ]
  },
  {
   "cell_type": "code",
   "execution_count": 90,
   "metadata": {},
   "outputs": [],
   "source": [
    "train_df.to_csv(\"training_code/new_train_human.csv\")\n",
    "test_df.to_csv(\"training_code/new_test_human.csv\")"
   ]
  },
  {
   "cell_type": "markdown",
   "metadata": {},
   "source": [
    "make train json"
   ]
  },
  {
   "cell_type": "code",
   "execution_count": 12,
   "metadata": {},
   "outputs": [
    {
     "name": "stderr",
     "output_type": "stream",
     "text": [
      "100%|███████████████████████████████████████████████████████████████████████████████████████████████████████████████████████████████████████████| 6571/6571 [1:48:08<00:00,  1.01it/s]"
     ]
    },
    {
     "name": "stdout",
     "output_type": "stream",
     "text": [
      "{\"sentence\":[{\"role\":\"system\",\"content\":\"You are a senior biologist.\"},{\"role\":\"user\",\"content\":\"Propose a brief description for the most prominent biological function performed by the given set of genes.\\nBe concise, do not use unnecessary words.\\nBe specific, avoid overly general statements such as \\\"the genes are involved in various cellular processes\\\".\\nBe factual, do not editorialize.\\n\\nThe set of genes is: AKT3: AKT serine\\/threonine kinase 3; PPARGC1A: PPARG coactivator 1 alpha; POLG2: DNA polymerase gamma 2, accessory subunit; PARP1: poly(ADP-ribose) polymerase 1; DNA2: DNA replication helicase\\/nuclease 2; TYMP: thymidine phosphorylase; FLCN: folliculin; PRIMPOL: primase and DNA directed polymerase; ENDOG: endonuclease G; STOX1: storkhead box 1; SLC25A4: solute carrier family 25 member 4; LIG3: DNA ligase 3; MEF2A: myocyte enhancer factor 2A; MPV17: mitochondrial inner membrane protein MPV17; OPA1: OPA1 mitochondrial dynamin like GTPase; RRM2B: ribonucleotide reductase regulatory TP53 inducible subunit M2B; POLG: DNA polymerase gamma, catalytic subunit; SLC25A36: solute carrier family 25 member 36; TWNK: twinkle mtDNA helicase; RRM1: ribonucleotide reductase catalytic subunit M1; METTL4: methyltransferase 4, N6-adenosine; SSBP1: single stranded DNA binding protein 1; TOP3A: DNA topoisomerase III alpha; TP53: tumor protein p53; TEFM: transcription elongation factor, mitochondrial; PIF1: PIF1 5'-to-3' DNA helicase; SESN2: sestrin 2; SLC25A33: solute carrier family 25 member 33; DNAJA3: DnaJ heat shock protein family (Hsp40) member A3; MGME1: mitochondrial genome maintenance exonuclease 1; LONP1: lon peptidase 1, mitochondrial.\\n\\n\"},{\"role\":\"assistant\",\"content\":\"This process involves the preservation and repair of the mitochondrial DNA, ensuring its integrity and proper function within the cell.\"}]}\n",
      "{\"sentence\":[{\"role\":\"system\",\"content\":\"You are a senior biologist.\"},{\"role\":\"user\",\"content\":\"Propose a brief description for the most prominent biological function performed by the given set of genes.\\nBe concise, do not use unnecessary words.\\nBe specific, avoid overly general statements such as \\\"the genes are involved in various cellular processes\\\".\\nBe factual, do not editorialize.\\n\\nThe set of genes is: XNDC1N: XRCC1 N-terminal domain containing 1, N-terminal like; ERCC8: ERCC excision repair 8, CSA ubiquitin ligase complex subunit; PARP1: poly(ADP-ribose) polymerase 1; APLF: aprataxin and PNKP like factor; ERCC6: ERCC excision repair 6, chromatin remodeling factor; SIRT1: sirtuin 1; LIG4: DNA ligase 4; APTX: aprataxin; TDP1: tyrosyl-DNA phosphodiesterase 1; TERF2: telomeric repeat binding factor 2; TNP1: transition protein 1; XRCC1: X-ray repair cross complementing 1.\\n\\n\"},{\"role\":\"assistant\",\"content\":\"This process involves the repair mechanism that identifies and fixes breaks in a single strand of DNA, ensuring genetic stability and proper cellular function.\"}]}\n",
      "{\"sentence\":[{\"role\":\"system\",\"content\":\"You are a senior biologist.\"},{\"role\":\"user\",\"content\":\"Propose a brief description for the most prominent biological function performed by the given set of genes.\\nBe concise, do not use unnecessary words.\\nBe specific, avoid overly general statements such as \\\"the genes are involved in various cellular processes\\\".\\nBe factual, do not editorialize.\\n\\nThe set of genes is: PARP3: poly(ADP-ribose) polymerase family member 3; ACTR2: actin related protein 2; RAD50: RAD50 double strand break repair protein; ALYREF: Aly\\/REF export factor; MAD2L2: mitotic arrest deficient 2 like 2; KAT5: lysine acetyltransferase 5; RAD51AP1: RAD51 associated protein 1; POLQ: DNA polymerase theta; RUVBL2: RuvB like AAA ATPase 2; BRD8: bromodomain containing 8; MORF4L1: mortality factor 4 like 1; PRDM7: PR\\/SET domain 7; CHEK1: checkpoint kinase 1; SHLD3: shieldin complex subunit 3; HELQ: helicase, POLQ like; CGAS: cyclic GMP-AMP synthase; RMI2: RecQ mediated genome instability 2; EXOSC6: exosome component 6; SLC15A4: solute carrier family 15 member 4; ANKLE1: ankyrin repeat and LEM domain containing 1; H1-8: H1.8 linker histone; PARP1: poly(ADP-ribose) polymerase 1; SHLD1: shieldin complex subunit 1; PPP4R2: protein phosphatase 4 regulatory subunit 2; KHDC3L: KH domain containing 3 like, subcortical maternal complex member; USP51: ubiquitin specific peptidase 51; ARID2: AT-rich interaction domain 2; APLF: aprataxin and PNKP like factor; ZSCAN4: zinc finger and SCAN domain containing 4; ERCC2: ERCC excision repair 2, TFIIH core complex helicase subunit; ERCC6: ERCC excision repair 6, chromatin remodeling factor; FANCB: FA complementation group B; ZNF365: zinc finger protein 365; PAXIP1: PAX interacting protein 1; KDM1A: lysine demethylase 1A; SMCHD1: structural maintenance of chromosomes flexible hinge domain containing 1; SPIDR: scaffold protein involved in DNA repair; CLCF1: cardiotrophin like cytokine factor 1; ABL1: ABL proto-oncogene 1, non-receptor tyrosine kinase; FUS: FUS RNA binding protein; EPC2: enhancer of polycomb homolog 2; SENP3: SUMO specific peptidase 3; SETD2: SET domain containing 2, histone lysine methyltransferase; MSH6: mutS homolog 6; TBX21: T-box transcription factor 21; H1-0: H1.0 linker histone; H1-2: H1.2 linker histone, cluster member; H1-3: H1.3 linker histone, cluster member; H1-4: H1.4 linker histone, cluster member; H1-5: H1.5 linker histone, cluster member; H1-6: H1.6 linker histone, cluster member; H1-1: H1.1 linker histone, cluster member; H1-7: H1.7 linker histone; IL2: interleukin 2; IL4: interleukin 4; IL7R: interleukin 7 receptor; IL10: interleukin 10; H1-9P: H1.9 linker histone, pseudogene; KPNA1: karyopherin subunit alpha 1; KPNA2: karyopherin subunit alpha 2; KMT5A: lysine methyltransferase 5A; MLH1: mutL homolog 1; MRE11: MRE11 homolog, double strand break repair nuclease; OOEP: oocyte expressed protein; MSH2: mutS homolog 2; MSH3: mutS homolog 3; FOXP3: forkhead box P3; EXOSC3: exosome component 3; KMT5B: lysine methyltransferase 5B; MRNIP: MRN complex interacting protein; SIRT6: sirtuin 6; PIAS4: protein inhibitor of activated STAT 4; RTEL1: regulator of telomere elongation helicase 1; PMS2: PMS1 homolog 2, mismatch repair system component; TERF2IP: TERF2 interacting protein; SHLD2: shieldin complex subunit 2; ING3: inhibitor of growth family member 3; MBTD1: mbt domain containing 1; PARPBP: PARP1 binding protein; ZCWPW1: zinc finger CW-type and PWWP domain containing 1; RADX: RPA1 related single stranded DNA binding protein, X-linked; WRAP53: WD repeat containing antisense to TP53; RIF1: replication timing regulatory factor 1; MRGBP: MRG domain binding protein; PPP4C: protein phosphatase 4 catalytic subunit; DMAP1: DNA methyltransferase 1 associated protein 1; TEX15: testis expressed 15, meiosis and synapsis associated; UBQLN4: ubiquilin 4; SMARCAD1: SWI\\/SNF-related, matrix-associated actin-dependent regulator of chromatin, subfamily a, containing DEAD\\/H box 1; HMCES: 5-hydroxymethylcytosine binding, ES cell specific; PRDM9: PR\\/SET domain 9; WDR48: WD repeat domain 48; EP400: E1A binding protein p400; PTPRC: protein tyrosine phosphatase receptor type C; RAD51: RAD51 recombinase; ACTB: actin beta; BCL6: BCL6 transcription repressor; RPA2: replication protein A2; FIGNL1: fidgetin like 1; BLM: BLM RecQ like helicase; MAGEF1: MAGE family member F1; MMS19: MMS19 homolog, cytosolic iron-sulfur assembly component; MEAF6: MYST\\/Esa1 associated factor 6; STAT6: signal transducer and activator of transcription 6; SUPT6H: SPT6 homolog, histone chaperone and transcription elongation factor; VPS72: vacuolar protein sorting 72 homolog; TERF2: telomeric repeat binding factor 2; TFRC: transferrin receptor; TGFB1: transforming growth factor beta 1; TP53BP1: tumor protein p53 binding protein 1; TNFSF4: TNF superfamily member 4; UBE2B: ubiquitin conjugating enzyme E2 B; WAS: WASP actin nucleation promoting factor; NSD2: nuclear receptor binding SET domain protein 2; ATAD5: ATPase family AAA domain containing 5; KLHL15: kelch like family member 15; EPC1: enhancer of polycomb homolog 1; NDFIP1: Nedd4 family interacting protein 1; YEATS4: YEATS domain containing 4; TRRAP: transformation\\/transcription domain associated protein; ZRANB3: zinc finger RANBP2-type containing 3; HDGFL2: HDGF like 2; KMT5C: lysine methyltransferase 5C; FBH1: F-box DNA helicase 1; ACTL6A: actin like 6A; RUVBL1: RuvB like AAA ATPase 1; TNFSF13: TNF superfamily member 13; TIMELESS: timeless circadian regulator; H1-10: H1.10 linker histone; HELB: DNA helicase B; CD28: CD28 molecule; RECQL5: RecQ like helicase 5; IL27RA: interleukin 27 receptor subunit alpha; CD40: CD40 molecule; MORF4L2: mortality factor 4 like 2; THOC1: THO complex subunit 1.\\n\\n\"},{\"role\":\"assistant\",\"content\":\"This process involves controlling the exchange of genetic material between DNA molecules, ensuring genetic diversity and proper DNA repair.\"}]}\n",
      "\n"
     ]
    },
    {
     "name": "stderr",
     "output_type": "stream",
     "text": [
      "\n"
     ]
    }
   ],
   "source": [
    "json_list = []\n",
    "\n",
    "for idx, row in tqdm(train_df.iterrows(), total=train_df.shape[0]):\n",
    "\n",
    "    gene_data = row['genelist']\n",
    "    genes = gene_data.split(' ')\n",
    "    prompt = make_train_prompt_gene(genes)\n",
    "\n",
    "    json_object = {\n",
    "        \"sentence\": [\n",
    "            {\"role\": \"system\", \"content\": \"You are a senior biologist.\"},\n",
    "            {\"role\": \"user\", \"content\": prompt},\n",
    "            {\"role\": \"assistant\", \"content\": row[\"rephrased\"]}\n",
    "        ]\n",
    "    }\n",
    "\n",
    "    json_list.append(json_object)\n",
    "\n",
    "json_df = pd.DataFrame(json_list)\n",
    "\n",
    "json_df.to_json('./training_code/new_train_human_wo_shot.json', orient='records', lines=True)\n",
    "\n",
    "print(json_df.head(3).to_json(orient='records', lines=True))\n"
   ]
  },
  {
   "cell_type": "markdown",
   "metadata": {},
   "source": [
    "make test json"
   ]
  },
  {
   "cell_type": "code",
   "execution_count": 13,
   "metadata": {},
   "outputs": [
    {
     "name": "stderr",
     "output_type": "stream",
     "text": [
      "100%|███████████████████████████████████████████████████████████████████████████████████████████████████████████████████████████████████████████████| 990/990 [08:43<00:00,  1.89it/s]\n"
     ]
    }
   ],
   "source": [
    "\n",
    "\n",
    "inputlis = []\n",
    "outputlis = []\n",
    "\n",
    "for idx, row in tqdm(test_df.iterrows(), total=test_df.shape[0]):\n",
    "\n",
    "    gene_data = row['genelist']\n",
    "    genes = gene_data.split(' ')\n",
    "    prompt = make_train_prompt_gene(genes)\n",
    "\n",
    "    input  = [\n",
    "    {\n",
    "        'role': 'system', 'content': 'You are a senior biologist.'\n",
    "    }, \n",
    "    {\n",
    "        'role': 'user', 'content': prompt\n",
    "    }\n",
    "    ]\n",
    "    output = row[\"rephrased\"]\n",
    "    inputlis.append(input)\n",
    "    outputlis.append(output)\n",
    "\n",
    "\n",
    "df_test = pd.DataFrame(\n",
    "        {'input': inputlis,\n",
    "        'output': outputlis},\n",
    "        columns = ['input', 'output'])\n",
    "\n",
    "\n",
    "df_test.to_json('./training_code/new_test_human_wo_shot.json', orient='records',lines=True)\n"
   ]
  },
  {
   "cell_type": "code",
   "execution_count": null,
   "metadata": {},
   "outputs": [
    {
     "data": {
      "text/plain": [
       "0"
      ]
     },
     "execution_count": 11,
     "metadata": {},
     "output_type": "execute_result"
    }
   ],
   "source": [
    "output_series = pd.Series(outputlis)\n",
    "missing_values = output_series.isna()\n",
    "\n",
    "missing_values.sum()"
   ]
  },
  {
   "cell_type": "code",
   "execution_count": null,
   "metadata": {},
   "outputs": [],
   "source": []
  }
 ],
 "metadata": {
  "kernelspec": {
   "display_name": "Python 3 (ipykernel)",
   "language": "python",
   "name": "python3"
  },
  "language_info": {
   "codemirror_mode": {
    "name": "ipython",
    "version": 3
   },
   "file_extension": ".py",
   "mimetype": "text/x-python",
   "name": "python",
   "nbconvert_exporter": "python",
   "pygments_lexer": "ipython3",
   "version": "3.10.2"
  }
 },
 "nbformat": 4,
 "nbformat_minor": 4
}
